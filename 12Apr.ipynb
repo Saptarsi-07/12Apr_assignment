{
 "cells": [
  {
   "cell_type": "raw",
   "id": "fc895c2f-5e10-4d94-ab34-eb277f4f9c93",
   "metadata": {},
   "source": [
    "Q1) Bagging (Bootstrap Aggregating) is a technique that reduces overfitting in decision trees by generating multiple models on different         subsets of the training data and combining their predictions."
   ]
  },
  {
   "cell_type": "raw",
   "id": "dfe4e865-f050-4ae5-947c-d64125b11767",
   "metadata": {},
   "source": [
    "Q2) Advantages:\n",
    "    i)Diversity of Models\n",
    "    ii)Reduced error correlation\n",
    "    iii)Enhanced Performance\n",
    "    \n",
    "    Disadvantages:\n",
    "    i)Increased computational complexity\n",
    "    ii)Integration challenges "
   ]
  },
  {
   "cell_type": "raw",
   "id": "6dad907b-353c-455b-b5f6-bc9598c021ec",
   "metadata": {},
   "source": [
    "Q3) The choice of base learner affects the bias-variance tradeoff in bagging. Low-bias base learners benefit from bagging by reducing           variance, while high-bias base learners benefit from bagging by reducing bias. The overall effect of bagging is to improve the ensemble     model's performance by combining the predictions of multiple base learners and achieving a more optimal bias-variance tradeoff."
   ]
  },
  {
   "cell_type": "raw",
   "id": "0d5ae5d8-ad43-40d6-891a-7726f3b01d60",
   "metadata": {},
   "source": [
    "Q4) Yes, bagging ensemble technique can be used for both Regression and Classification.\n",
    "    In case of classification a majority vote classifier is used on the outcomes of all the base learners to yield \n",
    "    the final result.\n",
    "    And for Regression Average value is considered.\n"
   ]
  },
  {
   "cell_type": "raw",
   "id": "30ef1026-f60a-4d29-b9e4-53e14b5fbba0",
   "metadata": {},
   "source": [
    "Q5) The ensemble size defines the total number of base learners used in bagging which plays an important role\n",
    "    in defining the model performance.\n",
    "    Based on the dataset,computational constraints ensemble size may vary but generally 50-few hundreds base learners\n",
    "    are optimal."
   ]
  },
  {
   "cell_type": "code",
   "execution_count": null,
   "id": "843c7e23-fab5-4f06-a60f-4290b3e2f539",
   "metadata": {},
   "outputs": [],
   "source": [
    "Q6) "
   ]
  }
 ],
 "metadata": {
  "kernelspec": {
   "display_name": "Python 3 (ipykernel)",
   "language": "python",
   "name": "python3"
  },
  "language_info": {
   "codemirror_mode": {
    "name": "ipython",
    "version": 3
   },
   "file_extension": ".py",
   "mimetype": "text/x-python",
   "name": "python",
   "nbconvert_exporter": "python",
   "pygments_lexer": "ipython3",
   "version": "3.10.8"
  }
 },
 "nbformat": 4,
 "nbformat_minor": 5
}
